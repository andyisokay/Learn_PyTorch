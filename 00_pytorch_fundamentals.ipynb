{
 "cells": [
  {
   "cell_type": "code",
   "execution_count": 1,
   "metadata": {},
   "outputs": [
    {
     "name": "stdout",
     "output_type": "stream",
     "text": [
      "I'm so excited to learn Python for Data Science!\n"
     ]
    }
   ],
   "source": [
    "print(\"I'm so excited to learn Python for Data Science!\")"
   ]
  },
  {
   "cell_type": "code",
   "execution_count": 3,
   "metadata": {},
   "outputs": [
    {
     "name": "stdout",
     "output_type": "stream",
     "text": [
      "1.13.1\n"
     ]
    }
   ],
   "source": [
    "import torch\n",
    "print(torch.__version__)"
   ]
  },
  {
   "cell_type": "code",
   "execution_count": 3,
   "metadata": {},
   "outputs": [],
   "source": [
    "scalar = torch.tensor(3)"
   ]
  },
  {
   "cell_type": "code",
   "execution_count": 4,
   "metadata": {},
   "outputs": [
    {
     "data": {
      "text/plain": [
       "tensor(3)"
      ]
     },
     "execution_count": 4,
     "metadata": {},
     "output_type": "execute_result"
    }
   ],
   "source": [
    "scalar"
   ]
  },
  {
   "cell_type": "code",
   "execution_count": 5,
   "metadata": {},
   "outputs": [
    {
     "data": {
      "text/plain": [
       "0"
      ]
     },
     "execution_count": 5,
     "metadata": {},
     "output_type": "execute_result"
    }
   ],
   "source": [
    "scalar.ndim"
   ]
  },
  {
   "cell_type": "code",
   "execution_count": 6,
   "metadata": {},
   "outputs": [
    {
     "data": {
      "text/plain": [
       "3"
      ]
     },
     "execution_count": 6,
     "metadata": {},
     "output_type": "execute_result"
    }
   ],
   "source": [
    "scalar.item()"
   ]
  },
  {
   "cell_type": "code",
   "execution_count": 8,
   "metadata": {},
   "outputs": [
    {
     "data": {
      "text/plain": [
       "tensor([7, 7])"
      ]
     },
     "execution_count": 8,
     "metadata": {},
     "output_type": "execute_result"
    }
   ],
   "source": [
    "vector = torch.tensor([7, 7])\n",
    "vector"
   ]
  },
  {
   "cell_type": "code",
   "execution_count": 9,
   "metadata": {},
   "outputs": [
    {
     "data": {
      "text/plain": [
       "1"
      ]
     },
     "execution_count": 9,
     "metadata": {},
     "output_type": "execute_result"
    }
   ],
   "source": [
    "vector.ndim"
   ]
  },
  {
   "cell_type": "code",
   "execution_count": 10,
   "metadata": {},
   "outputs": [
    {
     "data": {
      "text/plain": [
       "torch.Size([2])"
      ]
     },
     "execution_count": 10,
     "metadata": {},
     "output_type": "execute_result"
    }
   ],
   "source": [
    "vector.shape"
   ]
  },
  {
   "cell_type": "code",
   "execution_count": 18,
   "metadata": {},
   "outputs": [
    {
     "data": {
      "text/plain": [
       "tensor([[7, 7, 7],\n",
       "        [8, 8, 8],\n",
       "        [9, 9, 9]])"
      ]
     },
     "execution_count": 18,
     "metadata": {},
     "output_type": "execute_result"
    }
   ],
   "source": [
    "matrix = torch.tensor([[7, 7, 7], [8, 8, 8], [9, 9, 9]])\n",
    "matrix"
   ]
  },
  {
   "cell_type": "code",
   "execution_count": 19,
   "metadata": {},
   "outputs": [
    {
     "data": {
      "text/plain": [
       "2"
      ]
     },
     "execution_count": 19,
     "metadata": {},
     "output_type": "execute_result"
    }
   ],
   "source": [
    "matrix.ndim"
   ]
  },
  {
   "cell_type": "code",
   "execution_count": 20,
   "metadata": {},
   "outputs": [
    {
     "data": {
      "text/plain": [
       "torch.Size([3, 3])"
      ]
     },
     "execution_count": 20,
     "metadata": {},
     "output_type": "execute_result"
    }
   ],
   "source": [
    "matrix.shape"
   ]
  },
  {
   "cell_type": "code",
   "execution_count": 21,
   "metadata": {},
   "outputs": [
    {
     "data": {
      "text/plain": [
       "tensor([7, 7, 7])"
      ]
     },
     "execution_count": 21,
     "metadata": {},
     "output_type": "execute_result"
    }
   ],
   "source": [
    "matrix[0]"
   ]
  },
  {
   "cell_type": "code",
   "execution_count": 22,
   "metadata": {},
   "outputs": [
    {
     "data": {
      "text/plain": [
       "tensor([[[ 1,  2,  3],\n",
       "         [ 4,  5,  6]],\n",
       "\n",
       "        [[ 7,  8,  9],\n",
       "         [10, 11, 12]]])"
      ]
     },
     "execution_count": 22,
     "metadata": {},
     "output_type": "execute_result"
    }
   ],
   "source": [
    "tensor = torch.tensor([[[1, 2, 3], [4, 5, 6]], [[7, 8, 9], [10, 11, 12]]])\n",
    "tensor"
   ]
  },
  {
   "cell_type": "code",
   "execution_count": 23,
   "metadata": {},
   "outputs": [
    {
     "data": {
      "text/plain": [
       "3"
      ]
     },
     "execution_count": 23,
     "metadata": {},
     "output_type": "execute_result"
    }
   ],
   "source": [
    "tensor.ndim"
   ]
  },
  {
   "cell_type": "code",
   "execution_count": 24,
   "metadata": {},
   "outputs": [
    {
     "data": {
      "text/plain": [
       "torch.Size([2, 2, 3])"
      ]
     },
     "execution_count": 24,
     "metadata": {},
     "output_type": "execute_result"
    }
   ],
   "source": [
    "tensor.shape"
   ]
  },
  {
   "attachments": {},
   "cell_type": "markdown",
   "metadata": {},
   "source": [
    "### Random tensors\n",
    "\n",
    "We've established tensors represent some form of data.\n",
    "\n",
    "And machine learning models such as neural networks manipulate and seek patterns within tensors.\n",
    "\n",
    "But when building machine learning models with PyTorch, it's rare you'll create tensors by hand (like what we've being doing).\n",
    "\n",
    "Instead, a machine learning model often starts out with large random tensors of numbers and adjusts these random numbers as it works through data to better represent it.\n",
    "\n",
    "In essence:\n",
    "\n",
    "`Start with random numbers -> look at data -> update random numbers -> look at data -> update random numbers...`\n",
    "\n",
    "As a data scientist, you can define how the machine learning model starts (initialization), looks at data (representation) and updates (optimization) its random numbers.\n",
    "\n",
    "We'll get hands on with these steps later on.\n",
    "\n",
    "For now, let's see how to create a tensor of random numbers.\n",
    "\n",
    "We can do so using [`torch.rand()`](https://pytorch.org/docs/stable/generated/torch.rand.html) and passing in the `size` parameter."
   ]
  },
  {
   "cell_type": "code",
   "execution_count": 26,
   "metadata": {},
   "outputs": [
    {
     "data": {
      "text/plain": [
       "tensor([[0.2986, 0.1955, 0.5122],\n",
       "        [0.6596, 0.9233, 0.9682],\n",
       "        [0.1159, 0.4716, 0.7389]])"
      ]
     },
     "execution_count": 26,
     "metadata": {},
     "output_type": "execute_result"
    }
   ],
   "source": [
    "# create a random tensor of size (3, 3) in the interval [0, 1)\n",
    "torch.rand(3, 3)"
   ]
  },
  {
   "cell_type": "code",
   "execution_count": 27,
   "metadata": {},
   "outputs": [
    {
     "data": {
      "text/plain": [
       "tensor([[[[0.0081, 0.3131, 0.1827,  ..., 0.8994, 0.5164, 0.2547],\n",
       "          [0.4067, 0.8548, 0.9840,  ..., 0.1851, 0.0428, 0.6826],\n",
       "          [0.3038, 0.3057, 0.1495,  ..., 0.4878, 0.9026, 0.4659],\n",
       "          ...,\n",
       "          [0.5204, 0.0719, 0.8780,  ..., 0.6879, 0.9141, 0.8006],\n",
       "          [0.5690, 0.6076, 0.1732,  ..., 0.0586, 0.9532, 0.9634],\n",
       "          [0.2877, 0.6269, 0.1141,  ..., 0.1671, 0.5235, 0.9817]],\n",
       "\n",
       "         [[0.5568, 0.7513, 0.4414,  ..., 0.3429, 0.1448, 0.2262],\n",
       "          [0.8731, 0.1097, 0.8905,  ..., 0.9156, 0.4559, 0.0463],\n",
       "          [0.4028, 0.0063, 0.4020,  ..., 0.1262, 0.8561, 0.7749],\n",
       "          ...,\n",
       "          [0.7870, 0.3878, 0.6917,  ..., 0.0442, 0.9363, 0.9807],\n",
       "          [0.0840, 0.3080, 0.5156,  ..., 0.3188, 0.8486, 0.1302],\n",
       "          [0.7731, 0.0510, 0.9766,  ..., 0.8391, 0.4108, 0.8863]],\n",
       "\n",
       "         [[0.8809, 0.3213, 0.0901,  ..., 0.9513, 0.0575, 0.0612],\n",
       "          [0.1006, 0.7750, 0.9667,  ..., 0.1865, 0.6254, 0.7176],\n",
       "          [0.3927, 0.5921, 0.9695,  ..., 0.6958, 0.0290, 0.8479],\n",
       "          ...,\n",
       "          [0.1360, 0.8951, 0.7381,  ..., 0.9376, 0.4566, 0.4876],\n",
       "          [0.4671, 0.2369, 0.8940,  ..., 0.6114, 0.2537, 0.0736],\n",
       "          [0.3168, 0.0850, 0.5774,  ..., 0.0835, 0.3987, 0.8563]],\n",
       "\n",
       "         ...,\n",
       "\n",
       "         [[0.5256, 0.6682, 0.8837,  ..., 0.0194, 0.5225, 0.7020],\n",
       "          [0.0582, 0.5874, 0.1298,  ..., 0.3965, 0.5528, 0.7387],\n",
       "          [0.2341, 0.4520, 0.9453,  ..., 0.7914, 0.7897, 0.6581],\n",
       "          ...,\n",
       "          [0.3403, 0.9842, 0.8709,  ..., 0.5694, 0.4183, 0.5114],\n",
       "          [0.1129, 0.7614, 0.2979,  ..., 0.0283, 0.8515, 0.9098],\n",
       "          [0.0932, 0.0024, 0.7925,  ..., 0.1057, 0.7106, 0.5904]],\n",
       "\n",
       "         [[0.5787, 0.0370, 0.4337,  ..., 0.2826, 0.5737, 0.4427],\n",
       "          [0.7787, 0.7978, 0.2005,  ..., 0.2099, 0.2719, 0.2596],\n",
       "          [0.2716, 0.1515, 0.6741,  ..., 0.7158, 0.0247, 0.5748],\n",
       "          ...,\n",
       "          [0.7184, 0.4589, 0.9247,  ..., 0.9897, 0.0877, 0.9746],\n",
       "          [0.5122, 0.8336, 0.8633,  ..., 0.6451, 0.5447, 0.6803],\n",
       "          [0.1678, 0.0262, 0.4519,  ..., 0.9896, 0.8678, 0.0071]],\n",
       "\n",
       "         [[0.0285, 0.3034, 0.7761,  ..., 0.1584, 0.3354, 0.9198],\n",
       "          [0.3941, 0.8947, 0.3191,  ..., 0.5109, 0.9856, 0.7409],\n",
       "          [0.1903, 0.5766, 0.2771,  ..., 0.5389, 0.8490, 0.1477],\n",
       "          ...,\n",
       "          [0.4666, 0.7440, 0.6661,  ..., 0.8391, 0.5205, 0.8525],\n",
       "          [0.9779, 0.3663, 0.8299,  ..., 0.5248, 0.0614, 0.6920],\n",
       "          [0.6179, 0.0692, 0.6491,  ..., 0.7946, 0.8787, 0.6235]]],\n",
       "\n",
       "\n",
       "        [[[0.4325, 0.8945, 0.7645,  ..., 0.1516, 0.0957, 0.8567],\n",
       "          [0.1128, 0.4910, 0.1861,  ..., 0.5654, 0.4101, 0.9311],\n",
       "          [0.1999, 0.0223, 0.8033,  ..., 0.9894, 0.0278, 0.9900],\n",
       "          ...,\n",
       "          [0.6262, 0.6192, 0.6960,  ..., 0.4408, 0.3253, 0.4036],\n",
       "          [0.5263, 0.2913, 0.0907,  ..., 0.9685, 0.7736, 0.1153],\n",
       "          [0.0038, 0.3530, 0.6736,  ..., 0.9783, 0.9886, 0.6058]],\n",
       "\n",
       "         [[0.4324, 0.1687, 0.0370,  ..., 0.7680, 0.3441, 0.0470],\n",
       "          [0.2256, 0.8808, 0.7243,  ..., 0.3022, 0.9854, 0.4830],\n",
       "          [0.0045, 0.2403, 0.4404,  ..., 0.6248, 0.1550, 0.5594],\n",
       "          ...,\n",
       "          [0.7543, 0.9551, 0.2699,  ..., 0.7195, 0.9767, 0.0274],\n",
       "          [0.0704, 0.9935, 0.5769,  ..., 0.9189, 0.6683, 0.5162],\n",
       "          [0.5843, 0.6216, 0.1524,  ..., 0.1650, 0.7939, 0.4716]],\n",
       "\n",
       "         [[0.7902, 0.4763, 0.6406,  ..., 0.2070, 0.1495, 0.7763],\n",
       "          [0.5576, 0.4480, 0.4568,  ..., 0.7785, 0.5158, 0.8612],\n",
       "          [0.0615, 0.9018, 0.8714,  ..., 0.3492, 0.8524, 0.3999],\n",
       "          ...,\n",
       "          [0.0599, 0.1121, 0.8083,  ..., 0.2386, 0.5882, 0.5057],\n",
       "          [0.1741, 0.1999, 0.0500,  ..., 0.0811, 0.1037, 0.2588],\n",
       "          [0.8541, 0.7730, 0.6665,  ..., 0.4904, 0.5309, 0.6311]],\n",
       "\n",
       "         ...,\n",
       "\n",
       "         [[0.8577, 0.7760, 0.8497,  ..., 0.9520, 0.9191, 0.4045],\n",
       "          [0.8826, 0.7605, 0.2632,  ..., 0.9898, 0.9041, 0.7428],\n",
       "          [0.5212, 0.0390, 0.5605,  ..., 0.8408, 0.2035, 0.3088],\n",
       "          ...,\n",
       "          [0.8292, 0.6790, 0.6614,  ..., 0.2694, 0.3942, 0.3518],\n",
       "          [0.4623, 0.6067, 0.2573,  ..., 0.9781, 0.3269, 0.0610],\n",
       "          [0.8970, 0.8258, 0.5433,  ..., 0.8273, 0.1501, 0.6385]],\n",
       "\n",
       "         [[0.2913, 0.3626, 0.6193,  ..., 0.0494, 0.2056, 0.1920],\n",
       "          [0.0954, 0.6651, 0.6520,  ..., 0.6949, 0.7027, 0.1494],\n",
       "          [0.2224, 0.9719, 0.2582,  ..., 0.5210, 0.8702, 0.1233],\n",
       "          ...,\n",
       "          [0.6348, 0.9338, 0.0517,  ..., 0.8831, 0.2604, 0.8216],\n",
       "          [0.6610, 0.9153, 0.1188,  ..., 0.2679, 0.9985, 0.8923],\n",
       "          [0.0092, 0.9726, 0.9403,  ..., 0.5673, 0.4247, 0.1675]],\n",
       "\n",
       "         [[0.4254, 0.5698, 0.9011,  ..., 0.3203, 0.7553, 0.7657],\n",
       "          [0.9384, 0.0970, 0.0927,  ..., 0.0894, 0.1312, 0.5975],\n",
       "          [0.0894, 0.6694, 0.1723,  ..., 0.5074, 0.6867, 0.4141],\n",
       "          ...,\n",
       "          [0.0401, 0.8787, 0.3534,  ..., 0.3761, 0.3554, 0.2605],\n",
       "          [0.1329, 0.0257, 0.2098,  ..., 0.0697, 0.3610, 0.9147],\n",
       "          [0.7311, 0.9278, 0.6896,  ..., 0.6846, 0.0119, 0.6431]]],\n",
       "\n",
       "\n",
       "        [[[0.7940, 0.9372, 0.1360,  ..., 0.5696, 0.4391, 0.3813],\n",
       "          [0.9816, 0.9390, 0.2706,  ..., 0.1007, 0.8398, 0.6247],\n",
       "          [0.6583, 0.6792, 0.5034,  ..., 0.0504, 0.4670, 0.5203],\n",
       "          ...,\n",
       "          [0.9647, 0.6372, 0.4203,  ..., 0.0413, 0.9071, 0.0776],\n",
       "          [0.0044, 0.8861, 0.1616,  ..., 0.1120, 0.7348, 0.3374],\n",
       "          [0.2040, 0.5799, 0.6760,  ..., 0.8029, 0.7521, 0.2774]],\n",
       "\n",
       "         [[0.7556, 0.2830, 0.6021,  ..., 0.8096, 0.8272, 0.4466],\n",
       "          [0.4664, 0.8362, 0.8704,  ..., 0.5054, 0.2432, 0.4600],\n",
       "          [0.4837, 0.4666, 0.9721,  ..., 0.4104, 0.4816, 0.0628],\n",
       "          ...,\n",
       "          [0.3095, 0.2187, 0.7019,  ..., 0.9490, 0.7960, 0.2700],\n",
       "          [0.1987, 0.7025, 0.2174,  ..., 0.7975, 0.5184, 0.2042],\n",
       "          [0.3699, 0.3358, 0.1700,  ..., 0.3165, 0.6539, 0.3832]],\n",
       "\n",
       "         [[0.7566, 0.0079, 0.2398,  ..., 0.6714, 0.8762, 0.1525],\n",
       "          [0.3825, 0.9646, 0.7522,  ..., 0.0444, 0.5233, 0.8905],\n",
       "          [0.0793, 0.1045, 0.2056,  ..., 0.0822, 0.7072, 0.7377],\n",
       "          ...,\n",
       "          [0.2993, 0.1577, 0.7760,  ..., 0.9113, 0.1421, 0.8290],\n",
       "          [0.2190, 0.6545, 0.0134,  ..., 0.7720, 0.6921, 0.5825],\n",
       "          [0.4414, 0.0339, 0.7945,  ..., 0.7971, 0.8059, 0.7834]],\n",
       "\n",
       "         ...,\n",
       "\n",
       "         [[0.7211, 0.9709, 0.9947,  ..., 0.2796, 0.0241, 0.3848],\n",
       "          [0.1251, 0.0947, 0.0053,  ..., 0.0062, 0.2677, 0.7144],\n",
       "          [0.5177, 0.0249, 0.9046,  ..., 0.6938, 0.6935, 0.3942],\n",
       "          ...,\n",
       "          [0.7003, 0.7998, 0.1459,  ..., 0.9132, 0.0738, 0.9554],\n",
       "          [0.8628, 0.1233, 0.6627,  ..., 0.2713, 0.9439, 0.6965],\n",
       "          [0.2204, 0.4729, 0.5380,  ..., 0.7908, 0.0774, 0.1711]],\n",
       "\n",
       "         [[0.9926, 0.7564, 0.4959,  ..., 0.1846, 0.3400, 0.8499],\n",
       "          [0.5695, 0.2307, 0.2255,  ..., 0.7362, 0.0594, 0.8414],\n",
       "          [0.4157, 0.6009, 0.4061,  ..., 0.5327, 0.2044, 0.1034],\n",
       "          ...,\n",
       "          [0.4623, 0.5455, 0.4588,  ..., 0.0240, 0.1822, 0.3895],\n",
       "          [0.3458, 0.9926, 0.8963,  ..., 0.6903, 0.5874, 0.5072],\n",
       "          [0.0509, 0.5051, 0.1666,  ..., 0.6444, 0.0807, 0.8592]],\n",
       "\n",
       "         [[0.3605, 0.9312, 0.2707,  ..., 0.5391, 0.5769, 0.2787],\n",
       "          [0.6995, 0.9453, 0.0184,  ..., 0.7766, 0.0143, 0.6581],\n",
       "          [0.6951, 0.1126, 0.9998,  ..., 0.5573, 0.2794, 0.3589],\n",
       "          ...,\n",
       "          [0.9433, 0.0449, 0.1394,  ..., 0.2210, 0.7424, 0.5229],\n",
       "          [0.9676, 0.0186, 0.8526,  ..., 0.0060, 0.3772, 0.3473],\n",
       "          [0.6415, 0.4514, 0.0835,  ..., 0.8204, 0.7110, 0.7388]]],\n",
       "\n",
       "\n",
       "        ...,\n",
       "\n",
       "\n",
       "        [[[0.1730, 0.7168, 0.5189,  ..., 0.2389, 0.2631, 0.8065],\n",
       "          [0.8959, 0.7503, 0.4743,  ..., 0.9444, 0.5058, 0.3691],\n",
       "          [0.2557, 0.1328, 0.4213,  ..., 0.0062, 0.6040, 0.8593],\n",
       "          ...,\n",
       "          [0.1534, 0.8636, 0.1401,  ..., 0.6923, 0.6334, 0.5200],\n",
       "          [0.6215, 0.1797, 0.4762,  ..., 0.0354, 0.1612, 0.6542],\n",
       "          [0.7689, 0.7946, 0.2553,  ..., 0.9415, 0.3427, 0.1165]],\n",
       "\n",
       "         [[0.3179, 0.2307, 0.3160,  ..., 0.3659, 0.5202, 0.2995],\n",
       "          [0.3494, 0.2563, 0.8597,  ..., 0.0119, 0.4653, 0.1709],\n",
       "          [0.6932, 0.1223, 0.0743,  ..., 0.9518, 0.7994, 0.0989],\n",
       "          ...,\n",
       "          [0.3216, 0.0698, 0.1877,  ..., 0.0341, 0.0079, 0.2789],\n",
       "          [0.7701, 0.1383, 0.6700,  ..., 0.6232, 0.9486, 0.2192],\n",
       "          [0.8502, 0.0032, 0.6602,  ..., 0.9903, 0.1946, 0.0391]],\n",
       "\n",
       "         [[0.7733, 0.1408, 0.8610,  ..., 0.2575, 0.8213, 0.6814],\n",
       "          [0.6129, 0.3199, 0.0297,  ..., 0.9640, 0.2130, 0.9613],\n",
       "          [0.7303, 0.9438, 0.6440,  ..., 0.5041, 0.5681, 0.0368],\n",
       "          ...,\n",
       "          [0.1070, 0.9322, 0.7563,  ..., 0.1526, 0.5155, 0.6423],\n",
       "          [0.3353, 0.0464, 0.7360,  ..., 0.3254, 0.5254, 0.1703],\n",
       "          [0.0239, 0.4508, 0.2551,  ..., 0.7516, 0.6451, 0.9919]],\n",
       "\n",
       "         ...,\n",
       "\n",
       "         [[0.4453, 0.4763, 0.3622,  ..., 0.8529, 0.3643, 0.5805],\n",
       "          [0.4905, 0.8013, 0.3498,  ..., 0.8721, 0.9094, 0.1909],\n",
       "          [0.2611, 0.8386, 0.7760,  ..., 0.5693, 0.6776, 0.2341],\n",
       "          ...,\n",
       "          [0.5210, 0.7917, 0.6733,  ..., 0.4579, 0.4891, 0.5382],\n",
       "          [0.9268, 0.5737, 0.4871,  ..., 0.9477, 0.9013, 0.7805],\n",
       "          [0.8289, 0.8105, 0.5404,  ..., 0.2740, 0.9051, 0.3503]],\n",
       "\n",
       "         [[0.0023, 0.6597, 0.7416,  ..., 0.0689, 0.6036, 0.9907],\n",
       "          [0.4082, 0.3524, 0.2806,  ..., 0.6050, 0.9874, 0.1389],\n",
       "          [0.5648, 0.1179, 0.7172,  ..., 0.3145, 0.3840, 0.9209],\n",
       "          ...,\n",
       "          [0.8053, 0.7383, 0.5947,  ..., 0.5425, 0.3925, 0.5605],\n",
       "          [0.2889, 0.8741, 0.8836,  ..., 0.1351, 0.5400, 0.1193],\n",
       "          [0.3312, 0.9512, 0.3211,  ..., 0.2775, 0.1659, 0.7380]],\n",
       "\n",
       "         [[0.0173, 0.4253, 0.4841,  ..., 0.4431, 0.2707, 0.2973],\n",
       "          [0.2299, 0.2671, 0.2154,  ..., 0.9644, 0.9063, 0.3883],\n",
       "          [0.9092, 0.3985, 0.2605,  ..., 0.4232, 0.5153, 0.7849],\n",
       "          ...,\n",
       "          [0.3428, 0.6396, 0.8970,  ..., 0.8192, 0.6222, 0.6866],\n",
       "          [0.1961, 0.0156, 0.7344,  ..., 0.6648, 0.2365, 0.0941],\n",
       "          [0.3994, 0.5735, 0.8691,  ..., 0.1874, 0.6390, 0.1704]]],\n",
       "\n",
       "\n",
       "        [[[0.0589, 0.2928, 0.1357,  ..., 0.2061, 0.8392, 0.9589],\n",
       "          [0.3216, 0.9280, 0.6429,  ..., 0.3620, 0.6476, 0.5892],\n",
       "          [0.8390, 0.8412, 0.0403,  ..., 0.7004, 0.9503, 0.8259],\n",
       "          ...,\n",
       "          [0.2754, 0.6812, 0.7461,  ..., 0.3061, 0.1817, 0.1924],\n",
       "          [0.8004, 0.2289, 0.3059,  ..., 0.8183, 0.3697, 0.6238],\n",
       "          [0.8226, 0.2321, 0.8545,  ..., 0.0443, 0.5440, 0.2037]],\n",
       "\n",
       "         [[0.1497, 0.5536, 0.1852,  ..., 0.2757, 0.8005, 0.9688],\n",
       "          [0.4379, 0.6319, 0.3225,  ..., 0.0683, 0.9203, 0.3427],\n",
       "          [0.0236, 0.2973, 0.6509,  ..., 0.1362, 0.0779, 0.7396],\n",
       "          ...,\n",
       "          [0.2670, 0.7606, 0.3026,  ..., 0.0287, 0.8208, 0.0960],\n",
       "          [0.3929, 0.7826, 0.5543,  ..., 0.6393, 0.5372, 0.0502],\n",
       "          [0.4620, 0.5539, 0.2476,  ..., 0.6472, 0.0773, 0.2552]],\n",
       "\n",
       "         [[0.4679, 0.0505, 0.0463,  ..., 0.1957, 0.6390, 0.3120],\n",
       "          [0.9455, 0.1472, 0.9571,  ..., 0.4896, 0.6845, 0.9886],\n",
       "          [0.3978, 0.3920, 0.6888,  ..., 0.4013, 0.1702, 0.4393],\n",
       "          ...,\n",
       "          [0.5887, 0.0649, 0.4918,  ..., 0.6780, 0.0372, 0.3973],\n",
       "          [0.6071, 0.1414, 0.1089,  ..., 0.5480, 0.2294, 0.7122],\n",
       "          [0.0194, 0.6685, 0.3466,  ..., 0.4883, 0.0532, 0.8419]],\n",
       "\n",
       "         ...,\n",
       "\n",
       "         [[0.5252, 0.2123, 0.1396,  ..., 0.2680, 0.4632, 0.9402],\n",
       "          [0.3317, 0.5196, 0.5462,  ..., 0.0566, 0.3029, 0.1834],\n",
       "          [0.4859, 0.7762, 0.8370,  ..., 0.3327, 0.0939, 0.9032],\n",
       "          ...,\n",
       "          [0.3243, 0.3101, 0.1158,  ..., 0.5157, 0.2214, 0.8887],\n",
       "          [0.0941, 0.5612, 0.5530,  ..., 0.6788, 0.6724, 0.6003],\n",
       "          [0.8056, 0.7252, 0.0477,  ..., 0.6777, 0.7968, 0.0031]],\n",
       "\n",
       "         [[0.0809, 0.8049, 0.0988,  ..., 0.0393, 0.3185, 0.9966],\n",
       "          [0.4563, 0.1611, 0.1671,  ..., 0.3011, 0.1423, 0.4865],\n",
       "          [0.2382, 0.4399, 0.1838,  ..., 0.4037, 0.8361, 0.2138],\n",
       "          ...,\n",
       "          [0.5515, 0.6133, 0.4259,  ..., 0.3038, 0.2497, 0.3725],\n",
       "          [0.9899, 0.9754, 0.1442,  ..., 0.4783, 0.4744, 0.7080],\n",
       "          [0.3703, 0.6575, 0.5726,  ..., 0.6099, 0.8697, 0.9679]],\n",
       "\n",
       "         [[0.2162, 0.6984, 0.9524,  ..., 0.3714, 0.9690, 0.1260],\n",
       "          [0.5626, 0.9485, 0.8821,  ..., 0.3550, 0.2551, 0.4315],\n",
       "          [0.4830, 0.5771, 0.5870,  ..., 0.3241, 0.0372, 0.1577],\n",
       "          ...,\n",
       "          [0.9163, 0.1726, 0.1581,  ..., 0.9806, 0.3948, 0.2199],\n",
       "          [0.6239, 0.1372, 0.2715,  ..., 0.3529, 0.8566, 0.6641],\n",
       "          [0.3710, 0.2006, 0.2033,  ..., 0.7946, 0.6928, 0.8435]]],\n",
       "\n",
       "\n",
       "        [[[0.9300, 0.8674, 0.0115,  ..., 0.0223, 0.1488, 0.7463],\n",
       "          [0.8524, 0.4520, 0.6496,  ..., 0.8343, 0.8606, 0.0315],\n",
       "          [0.7486, 0.1634, 0.0985,  ..., 0.1945, 0.7204, 0.5791],\n",
       "          ...,\n",
       "          [0.7112, 0.9869, 0.2066,  ..., 0.7551, 0.6668, 0.7041],\n",
       "          [0.4439, 0.2402, 0.6264,  ..., 0.3390, 0.1372, 0.2228],\n",
       "          [0.9950, 0.0301, 0.7669,  ..., 0.4795, 0.8459, 0.5877]],\n",
       "\n",
       "         [[0.0181, 0.9228, 0.8110,  ..., 0.3187, 0.6585, 0.0420],\n",
       "          [0.3631, 0.2947, 0.6250,  ..., 0.0643, 0.7006, 0.7320],\n",
       "          [0.9511, 0.7489, 0.8223,  ..., 0.0996, 0.0029, 0.7685],\n",
       "          ...,\n",
       "          [0.3923, 0.4613, 0.5302,  ..., 0.0455, 0.6680, 0.0474],\n",
       "          [0.7476, 0.1538, 0.1213,  ..., 0.2232, 0.8807, 0.9941],\n",
       "          [0.7069, 0.4003, 0.4993,  ..., 0.4905, 0.5513, 0.7155]],\n",
       "\n",
       "         [[0.8912, 0.6988, 0.5665,  ..., 0.4449, 0.1304, 0.3959],\n",
       "          [0.0897, 0.7773, 0.3152,  ..., 0.2042, 0.8982, 0.0110],\n",
       "          [0.6066, 0.7522, 0.4751,  ..., 0.8358, 0.2111, 0.7277],\n",
       "          ...,\n",
       "          [0.5601, 0.1452, 0.7817,  ..., 0.5320, 0.5887, 0.0650],\n",
       "          [0.3997, 0.1667, 0.2433,  ..., 0.0541, 0.2691, 0.9117],\n",
       "          [0.1454, 0.5743, 0.4405,  ..., 0.6826, 0.1341, 0.5205]],\n",
       "\n",
       "         ...,\n",
       "\n",
       "         [[0.7335, 0.0871, 0.8564,  ..., 0.9463, 0.3724, 0.5179],\n",
       "          [0.8334, 0.6000, 0.8314,  ..., 0.4785, 0.4938, 0.0211],\n",
       "          [0.3615, 0.1802, 0.4234,  ..., 0.7175, 0.3172, 0.9622],\n",
       "          ...,\n",
       "          [0.4617, 0.4454, 0.4487,  ..., 0.8954, 0.2794, 0.7778],\n",
       "          [0.5155, 0.1110, 0.4059,  ..., 0.3476, 0.2523, 0.4969],\n",
       "          [0.3728, 0.0997, 0.5075,  ..., 0.0377, 0.0830, 0.5994]],\n",
       "\n",
       "         [[0.6518, 0.3511, 0.8326,  ..., 0.3975, 0.6076, 0.3272],\n",
       "          [0.2186, 0.6668, 0.2628,  ..., 0.8430, 0.0501, 0.8468],\n",
       "          [0.8478, 0.7379, 0.3923,  ..., 0.9641, 0.7849, 0.5697],\n",
       "          ...,\n",
       "          [0.3691, 0.8814, 0.1698,  ..., 0.2477, 0.1564, 0.9392],\n",
       "          [0.1786, 0.9510, 0.7132,  ..., 0.4378, 0.6958, 0.4702],\n",
       "          [0.5814, 0.6084, 0.1427,  ..., 0.3984, 0.8650, 0.4365]],\n",
       "\n",
       "         [[0.8809, 0.4966, 0.6744,  ..., 0.0466, 0.2612, 0.8951],\n",
       "          [0.7020, 0.2194, 0.0828,  ..., 0.9183, 0.1931, 0.2865],\n",
       "          [0.1640, 0.6363, 0.9332,  ..., 0.4915, 0.9752, 0.5544],\n",
       "          ...,\n",
       "          [0.0322, 0.5991, 0.2118,  ..., 0.6018, 0.0800, 0.1958],\n",
       "          [0.7296, 0.4233, 0.6661,  ..., 0.9818, 0.3768, 0.4073],\n",
       "          [0.7608, 0.9336, 0.8604,  ..., 0.0384, 0.0273, 0.2176]]]])"
      ]
     },
     "execution_count": 27,
     "metadata": {},
     "output_type": "execute_result"
    }
   ],
   "source": [
    "bigger_tensor = torch.rand(10, 10, 10, 10)\n",
    "bigger_tensor"
   ]
  },
  {
   "cell_type": "code",
   "execution_count": 29,
   "metadata": {},
   "outputs": [
    {
     "data": {
      "text/plain": [
       "torch.Size([10, 10, 10, 10])"
      ]
     },
     "execution_count": 29,
     "metadata": {},
     "output_type": "execute_result"
    }
   ],
   "source": [
    "bigger_tensor.shape"
   ]
  },
  {
   "cell_type": "code",
   "execution_count": 30,
   "metadata": {},
   "outputs": [],
   "source": [
    "image_tensor = torch.rand(3, 28, 28)"
   ]
  },
  {
   "cell_type": "code",
   "execution_count": 31,
   "metadata": {},
   "outputs": [
    {
     "data": {
      "text/plain": [
       "(torch.Size([3, 28, 28]), 3)"
      ]
     },
     "execution_count": 31,
     "metadata": {},
     "output_type": "execute_result"
    }
   ],
   "source": [
    "image_tensor.shape, image_tensor.ndim"
   ]
  },
  {
   "cell_type": "code",
   "execution_count": 37,
   "metadata": {},
   "outputs": [],
   "source": [
    "zeros = torch.zeros(3, 28, 28)"
   ]
  },
  {
   "cell_type": "code",
   "execution_count": 38,
   "metadata": {},
   "outputs": [
    {
     "data": {
      "text/plain": [
       "torch.float32"
      ]
     },
     "execution_count": 38,
     "metadata": {},
     "output_type": "execute_result"
    }
   ],
   "source": [
    "zeros.dtype"
   ]
  },
  {
   "cell_type": "code",
   "execution_count": null,
   "metadata": {},
   "outputs": [],
   "source": [
    "zeros*image_tensor"
   ]
  },
  {
   "cell_type": "code",
   "execution_count": 40,
   "metadata": {},
   "outputs": [],
   "source": [
    "ones = torch.ones(3, 28, 28)"
   ]
  },
  {
   "cell_type": "code",
   "execution_count": 41,
   "metadata": {},
   "outputs": [
    {
     "data": {
      "text/plain": [
       "torch.float32"
      ]
     },
     "execution_count": 41,
     "metadata": {},
     "output_type": "execute_result"
    }
   ],
   "source": [
    "ones.dtype"
   ]
  },
  {
   "cell_type": "code",
   "execution_count": 42,
   "metadata": {},
   "outputs": [
    {
     "data": {
      "text/plain": [
       "tensor([[[0.4804, 0.3525, 0.9828,  ..., 0.2468, 0.2693, 0.0901],\n",
       "         [0.5349, 0.2431, 0.8111,  ..., 0.0819, 0.2274, 0.1176],\n",
       "         [0.3369, 0.0769, 0.1505,  ..., 0.3780, 0.2962, 0.5261],\n",
       "         ...,\n",
       "         [0.9113, 0.0900, 0.7065,  ..., 0.8331, 0.6562, 0.9112],\n",
       "         [0.2240, 0.4372, 0.7397,  ..., 0.4543, 0.5544, 0.6464],\n",
       "         [0.0492, 0.3806, 0.2756,  ..., 0.6273, 0.3634, 0.9203]],\n",
       "\n",
       "        [[0.1953, 0.4885, 0.8609,  ..., 0.5405, 0.0229, 0.6035],\n",
       "         [0.3385, 0.9123, 0.9061,  ..., 0.7441, 0.7152, 0.9037],\n",
       "         [0.8146, 0.3884, 0.2891,  ..., 0.4508, 0.8326, 0.4496],\n",
       "         ...,\n",
       "         [0.1145, 0.5604, 0.2438,  ..., 0.3081, 0.7289, 0.3415],\n",
       "         [0.2091, 0.6175, 0.5631,  ..., 0.8394, 0.4926, 0.7848],\n",
       "         [0.2765, 0.7941, 0.4619,  ..., 0.7551, 0.7396, 0.2309]],\n",
       "\n",
       "        [[0.2966, 0.0142, 0.5321,  ..., 0.4646, 0.6206, 0.9893],\n",
       "         [0.4248, 0.9989, 0.1182,  ..., 0.5874, 0.6395, 0.1780],\n",
       "         [0.8197, 0.9472, 0.5521,  ..., 0.3409, 0.6780, 0.2527],\n",
       "         ...,\n",
       "         [0.9672, 0.6308, 0.5539,  ..., 0.9513, 0.9109, 0.6517],\n",
       "         [0.9440, 0.1253, 0.1969,  ..., 0.2651, 0.4925, 0.8908],\n",
       "         [0.0790, 0.1228, 0.4358,  ..., 0.9774, 0.6518, 0.0582]]])"
      ]
     },
     "execution_count": 42,
     "metadata": {},
     "output_type": "execute_result"
    }
   ],
   "source": [
    "ones*image_tensor"
   ]
  },
  {
   "cell_type": "code",
   "execution_count": 44,
   "metadata": {},
   "outputs": [
    {
     "data": {
      "text/plain": [
       "tensor([0, 1, 2, 3, 4, 5, 6, 7, 8, 9])"
      ]
     },
     "execution_count": 44,
     "metadata": {},
     "output_type": "execute_result"
    }
   ],
   "source": [
    "torch.arange(0, 10)"
   ]
  },
  {
   "cell_type": "code",
   "execution_count": 48,
   "metadata": {},
   "outputs": [
    {
     "data": {
      "text/plain": [
       "tensor([  0,  88, 176, 264, 352, 440, 528, 616, 704, 792, 880, 968])"
      ]
     },
     "execution_count": 48,
     "metadata": {},
     "output_type": "execute_result"
    }
   ],
   "source": [
    "zero_to_1000 = torch.arange(start=0, end=1000, step=88)\n",
    "zero_to_1000"
   ]
  },
  {
   "cell_type": "code",
   "execution_count": 49,
   "metadata": {},
   "outputs": [
    {
     "data": {
      "text/plain": [
       "tensor([0, 0, 0, 0, 0, 0, 0, 0, 0, 0, 0, 0])"
      ]
     },
     "execution_count": 49,
     "metadata": {},
     "output_type": "execute_result"
    }
   ],
   "source": [
    "zeros_like = torch.zeros_like(zero_to_1000)\n",
    "zeros_like"
   ]
  },
  {
   "cell_type": "code",
   "execution_count": null,
   "metadata": {},
   "outputs": [],
   "source": [
    "# Tensor Dtype"
   ]
  },
  {
   "cell_type": "code",
   "execution_count": 51,
   "metadata": {},
   "outputs": [
    {
     "data": {
      "text/plain": [
       "torch.int64"
      ]
     },
     "execution_count": 51,
     "metadata": {},
     "output_type": "execute_result"
    }
   ],
   "source": [
    "int_tensor = torch.tensor([1, 2, 3])\n",
    "int_tensor.dtype"
   ]
  },
  {
   "cell_type": "code",
   "execution_count": 53,
   "metadata": {},
   "outputs": [
    {
     "data": {
      "text/plain": [
       "torch.float16"
      ]
     },
     "execution_count": 53,
     "metadata": {},
     "output_type": "execute_result"
    }
   ],
   "source": [
    "float_16_tensor = torch.tensor([1, 2, 3], \n",
    "                               dtype=torch.float16)\n",
    "float_16_tensor.dtype"
   ]
  },
  {
   "cell_type": "code",
   "execution_count": 54,
   "metadata": {},
   "outputs": [
    {
     "data": {
      "text/plain": [
       "torch.float32"
      ]
     },
     "execution_count": 54,
     "metadata": {},
     "output_type": "execute_result"
    }
   ],
   "source": [
    "float_32_tensor = torch.tensor([1, 2, 3], \n",
    "                               dtype=torch.float32,\n",
    "                               device='cuda',\n",
    "                               requires_grad=True)\n",
    "float_32_tensor.dtype"
   ]
  },
  {
   "cell_type": "code",
   "execution_count": 57,
   "metadata": {},
   "outputs": [
    {
     "data": {
      "text/plain": [
       "torch.float32"
      ]
     },
     "execution_count": 57,
     "metadata": {},
     "output_type": "execute_result"
    }
   ],
   "source": [
    "float_32_tensor = torch.tensor([1.0, 2.0, 3.0], \n",
    "                               dtype=None,\n",
    "                               device=\"cuda\",\n",
    "                               requires_grad=False)\n",
    "float_32_tensor.dtype"
   ]
  },
  {
   "attachments": {},
   "cell_type": "markdown",
   "metadata": {},
   "source": [
    "## Getting information from tensors\n",
    "\n",
    "Once you've created tensors (or someone else or a PyTorch module has created them for you), you might want to get some information from them.\n",
    "\n",
    "We've seen these before but three of the most common attributes you'll want to find out about tensors are:\n",
    "* `shape` - what shape is the tensor? (some operations require specific shape rules)\n",
    "* `dtype` - what datatype are the elements within the tensor stored in?\n",
    "* `device` - what device is the tensor stored on? (usually GPU or CPU)\n",
    "\n",
    "Let's create a random tensor and find out details about it."
   ]
  },
  {
   "cell_type": "code",
   "execution_count": 61,
   "metadata": {},
   "outputs": [
    {
     "data": {
      "text/plain": [
       "tensor([1., 2., 3.], device='cuda:0')"
      ]
     },
     "execution_count": 61,
     "metadata": {},
     "output_type": "execute_result"
    }
   ],
   "source": [
    "float_32_tensor"
   ]
  },
  {
   "cell_type": "code",
   "execution_count": 58,
   "metadata": {},
   "outputs": [
    {
     "name": "stdout",
     "output_type": "stream",
     "text": [
      "tensor([1., 2., 3.], device='cuda:0')\n",
      "Shape of tensor: torch.Size([3])\n",
      "Datatype of tensor: torch.float32\n",
      "Device tensor is stored on: cuda:0\n"
     ]
    }
   ],
   "source": [
    "# Find out details about it\n",
    "print(float_32_tensor)\n",
    "print(f\"Shape of tensor: {float_32_tensor.shape}\")\n",
    "print(f\"Datatype of tensor: {float_32_tensor.dtype}\")\n",
    "print(f\"Device tensor is stored on: {float_32_tensor.device}\") # will default to CPU"
   ]
  },
  {
   "cell_type": "code",
   "execution_count": 59,
   "metadata": {},
   "outputs": [
    {
     "data": {
      "text/plain": [
       "torch.float16"
      ]
     },
     "execution_count": 59,
     "metadata": {},
     "output_type": "execute_result"
    }
   ],
   "source": [
    "float_16_tensor = float_32_tensor.type(torch.float16)\n",
    "float_16_tensor.dtype"
   ]
  },
  {
   "cell_type": "code",
   "execution_count": 60,
   "metadata": {},
   "outputs": [
    {
     "data": {
      "text/plain": [
       "tensor([1., 4., 9.], device='cuda:0')"
      ]
     },
     "execution_count": 60,
     "metadata": {},
     "output_type": "execute_result"
    }
   ],
   "source": [
    "float_16_tensor * float_32_tensor"
   ]
  },
  {
   "cell_type": "code",
   "execution_count": 66,
   "metadata": {},
   "outputs": [
    {
     "data": {
      "text/plain": [
       "tensor([[0.2777, 0.9137, 0.4815, 0.4451],\n",
       "        [0.4117, 0.6976, 0.3851, 0.3520]])"
      ]
     },
     "execution_count": 66,
     "metadata": {},
     "output_type": "execute_result"
    }
   ],
   "source": [
    "torch.rand(2, 4)"
   ]
  },
  {
   "cell_type": "code",
   "execution_count": 67,
   "metadata": {},
   "outputs": [],
   "source": [
    "# manipulating tensors\n",
    "tensor = torch.tensor([1, 2, 3])"
   ]
  },
  {
   "cell_type": "code",
   "execution_count": 68,
   "metadata": {},
   "outputs": [
    {
     "data": {
      "text/plain": [
       "tensor([1, 2, 3])"
      ]
     },
     "execution_count": 68,
     "metadata": {},
     "output_type": "execute_result"
    }
   ],
   "source": [
    "tensor"
   ]
  },
  {
   "cell_type": "code",
   "execution_count": 69,
   "metadata": {},
   "outputs": [
    {
     "data": {
      "text/plain": [
       "tensor([11, 12, 13])"
      ]
     },
     "execution_count": 69,
     "metadata": {},
     "output_type": "execute_result"
    }
   ],
   "source": [
    "tensor + 10"
   ]
  },
  {
   "cell_type": "code",
   "execution_count": 70,
   "metadata": {},
   "outputs": [
    {
     "data": {
      "text/plain": [
       "tensor([10, 20, 30])"
      ]
     },
     "execution_count": 70,
     "metadata": {},
     "output_type": "execute_result"
    }
   ],
   "source": [
    "tensor * 10"
   ]
  },
  {
   "cell_type": "code",
   "execution_count": 71,
   "metadata": {},
   "outputs": [
    {
     "data": {
      "text/plain": [
       "tensor([10, 20, 30])"
      ]
     },
     "execution_count": 71,
     "metadata": {},
     "output_type": "execute_result"
    }
   ],
   "source": [
    "torch.mul(tensor, 10)"
   ]
  },
  {
   "cell_type": "code",
   "execution_count": 73,
   "metadata": {},
   "outputs": [
    {
     "data": {
      "text/plain": [
       "tensor([1, 4, 9])"
      ]
     },
     "execution_count": 73,
     "metadata": {},
     "output_type": "execute_result"
    }
   ],
   "source": [
    "# element-wise multiplication\n",
    "torch.mul(tensor, tensor)"
   ]
  },
  {
   "cell_type": "code",
   "execution_count": 74,
   "metadata": {},
   "outputs": [
    {
     "data": {
      "text/plain": [
       "tensor(14)"
      ]
     },
     "execution_count": 74,
     "metadata": {},
     "output_type": "execute_result"
    }
   ],
   "source": [
    "# matrix multiplication\n",
    "torch.matmul(tensor, tensor)"
   ]
  },
  {
   "cell_type": "code",
   "execution_count": 76,
   "metadata": {},
   "outputs": [
    {
     "name": "stdout",
     "output_type": "stream",
     "text": [
      "tensor(14)\n",
      "CPU times: total: 0 ns\n",
      "Wall time: 1e+03 µs\n"
     ]
    }
   ],
   "source": [
    "%%time\n",
    "\n",
    "value = 0\n",
    "for i in range(len(tensor)):\n",
    "    value += tensor[i] * tensor[i]\n",
    "print(value)\n"
   ]
  },
  {
   "cell_type": "code",
   "execution_count": 77,
   "metadata": {},
   "outputs": [
    {
     "name": "stdout",
     "output_type": "stream",
     "text": [
      "CPU times: total: 0 ns\n",
      "Wall time: 678 µs\n"
     ]
    },
    {
     "data": {
      "text/plain": [
       "tensor(14)"
      ]
     },
     "execution_count": 77,
     "metadata": {},
     "output_type": "execute_result"
    }
   ],
   "source": [
    "%%time\n",
    "torch.matmul(tensor, tensor)"
   ]
  },
  {
   "attachments": {},
   "cell_type": "markdown",
   "metadata": {},
   "source": [
    "### Matrix multiplication (is all you need)\n",
    "\n",
    "One of the most common operations in machine learning and deep learning algorithms (like neural networks) is [matrix multiplication](https://www.mathsisfun.com/algebra/matrix-multiplying.html).\n",
    "\n",
    "PyTorch implements matrix multiplication functionality in the [`torch.matmul()`](https://pytorch.org/docs/stable/generated/torch.matmul.html) method.\n",
    "\n",
    "The main two rules for matrix multiplication to remember are:\n",
    "1. The **inner dimensions** must match:\n",
    "  * `(3, 2) @ (3, 2)` won't work\n",
    "  * `(2, 3) @ (3, 2)` will work\n",
    "  * `(3, 2) @ (2, 3)` will work\n",
    "2. The resulting matrix has the shape of the **outer dimensions**:\n",
    " * `(2, 3) @ (3, 2)` -> `(2, 2)`\n",
    " * `(3, 2) @ (2, 3)` -> `(3, 3)`\n",
    "\n",
    "> **Note:** \"`@`\" in Python is the symbol for matrix multiplication.\n",
    "\n",
    "> **Resource:** You can see all of the rules for matrix multiplication using `torch.matmul()` [in the PyTorch documentation](https://pytorch.org/docs/stable/generated/torch.matmul.html).\n",
    "\n",
    "Let's create a tensor and perform element-wise multiplication and matrix multiplication on it.\n",
    "\n"
   ]
  },
  {
   "cell_type": "code",
   "execution_count": 78,
   "metadata": {},
   "outputs": [],
   "source": [
    "# Shapes need to be in the right way  \n",
    "tensor_A = torch.tensor([[1, 2],\n",
    "                         [3, 4],\n",
    "                         [5, 6]], dtype=torch.float32)\n",
    "\n",
    "tensor_B = torch.tensor([[7, 10],\n",
    "                         [8, 11], \n",
    "                         [9, 12]], dtype=torch.float32)\n"
   ]
  },
  {
   "cell_type": "code",
   "execution_count": 79,
   "metadata": {},
   "outputs": [
    {
     "data": {
      "text/plain": [
       "tensor([[ 7.,  8.,  9.],\n",
       "        [10., 11., 12.]])"
      ]
     },
     "execution_count": 79,
     "metadata": {},
     "output_type": "execute_result"
    }
   ],
   "source": [
    "tensor_B.T"
   ]
  },
  {
   "cell_type": "code",
   "execution_count": 90,
   "metadata": {},
   "outputs": [
    {
     "data": {
      "text/plain": [
       "tensor([[ 27.,  30.,  33.],\n",
       "        [ 61.,  68.,  75.],\n",
       "        [ 95., 106., 117.]])"
      ]
     },
     "execution_count": 90,
     "metadata": {},
     "output_type": "execute_result"
    }
   ],
   "source": [
    "matrix = torch.matmul(tensor_A, tensor_B.T) \n",
    "matrix"
   ]
  },
  {
   "cell_type": "code",
   "execution_count": 92,
   "metadata": {},
   "outputs": [
    {
     "data": {
      "text/plain": [
       "tensor(612.)"
      ]
     },
     "execution_count": 92,
     "metadata": {},
     "output_type": "execute_result"
    }
   ],
   "source": [
    "matrix.sum()"
   ]
  },
  {
   "cell_type": "code",
   "execution_count": 93,
   "metadata": {},
   "outputs": [
    {
     "data": {
      "text/plain": [
       "68.0"
      ]
     },
     "execution_count": 93,
     "metadata": {},
     "output_type": "execute_result"
    }
   ],
   "source": [
    "612 / 9"
   ]
  },
  {
   "cell_type": "code",
   "execution_count": 91,
   "metadata": {},
   "outputs": [
    {
     "data": {
      "text/plain": [
       "tensor(68.)"
      ]
     },
     "execution_count": 91,
     "metadata": {},
     "output_type": "execute_result"
    }
   ],
   "source": [
    "matrix.mean()"
   ]
  },
  {
   "cell_type": "code",
   "execution_count": 82,
   "metadata": {},
   "outputs": [
    {
     "data": {
      "text/plain": [
       "tensor(27.)"
      ]
     },
     "execution_count": 82,
     "metadata": {},
     "output_type": "execute_result"
    }
   ],
   "source": [
    "matrix.min()"
   ]
  },
  {
   "cell_type": "code",
   "execution_count": 84,
   "metadata": {},
   "outputs": [
    {
     "data": {
      "text/plain": [
       "tensor(68.)"
      ]
     },
     "execution_count": 84,
     "metadata": {},
     "output_type": "execute_result"
    }
   ],
   "source": [
    "matrix.mean()"
   ]
  },
  {
   "cell_type": "code",
   "execution_count": 87,
   "metadata": {},
   "outputs": [],
   "source": [
    "matrix = matrix.type(torch.int32)"
   ]
  },
  {
   "cell_type": "code",
   "execution_count": 88,
   "metadata": {},
   "outputs": [
    {
     "data": {
      "text/plain": [
       "tensor([[ 27,  30,  33],\n",
       "        [ 61,  68,  75],\n",
       "        [ 95, 106, 117]], dtype=torch.int32)"
      ]
     },
     "execution_count": 88,
     "metadata": {},
     "output_type": "execute_result"
    }
   ],
   "source": [
    "matrix"
   ]
  },
  {
   "cell_type": "code",
   "execution_count": 89,
   "metadata": {},
   "outputs": [
    {
     "ename": "RuntimeError",
     "evalue": "mean(): could not infer output dtype. Input dtype must be either a floating point or complex dtype. Got: Int",
     "output_type": "error",
     "traceback": [
      "\u001b[1;31m---------------------------------------------------------------------------\u001b[0m",
      "\u001b[1;31mRuntimeError\u001b[0m                              Traceback (most recent call last)",
      "Cell \u001b[1;32mIn[89], line 1\u001b[0m\n\u001b[1;32m----> 1\u001b[0m matrix\u001b[39m.\u001b[39;49mmean()\n",
      "\u001b[1;31mRuntimeError\u001b[0m: mean(): could not infer output dtype. Input dtype must be either a floating point or complex dtype. Got: Int"
     ]
    }
   ],
   "source": [
    "matrix.mean()"
   ]
  },
  {
   "cell_type": "code",
   "execution_count": 94,
   "metadata": {},
   "outputs": [],
   "source": [
    "x = torch.arange(1, 100, 10)"
   ]
  },
  {
   "cell_type": "code",
   "execution_count": 95,
   "metadata": {},
   "outputs": [
    {
     "data": {
      "text/plain": [
       "tensor([ 1, 11, 21, 31, 41, 51, 61, 71, 81, 91])"
      ]
     },
     "execution_count": 95,
     "metadata": {},
     "output_type": "execute_result"
    }
   ],
   "source": [
    "x"
   ]
  },
  {
   "cell_type": "code",
   "execution_count": 96,
   "metadata": {},
   "outputs": [
    {
     "data": {
      "text/plain": [
       "tensor(9)"
      ]
     },
     "execution_count": 96,
     "metadata": {},
     "output_type": "execute_result"
    }
   ],
   "source": [
    "x.argmax()"
   ]
  },
  {
   "cell_type": "code",
   "execution_count": 97,
   "metadata": {},
   "outputs": [
    {
     "data": {
      "text/plain": [
       "tensor(0)"
      ]
     },
     "execution_count": 97,
     "metadata": {},
     "output_type": "execute_result"
    }
   ],
   "source": [
    "x.argmin()"
   ]
  },
  {
   "cell_type": "code",
   "execution_count": 102,
   "metadata": {},
   "outputs": [],
   "source": [
    "r_1 = torch.arange(1, 100, 10)\n",
    "r_2 = torch.arange(0, 100, 11)"
   ]
  },
  {
   "cell_type": "code",
   "execution_count": 100,
   "metadata": {},
   "outputs": [
    {
     "data": {
      "text/plain": [
       "tensor([ 1, 11, 21, 31, 41, 51, 61, 71, 81, 91])"
      ]
     },
     "execution_count": 100,
     "metadata": {},
     "output_type": "execute_result"
    }
   ],
   "source": [
    "r_1"
   ]
  },
  {
   "cell_type": "code",
   "execution_count": 103,
   "metadata": {},
   "outputs": [
    {
     "data": {
      "text/plain": [
       "tensor([ 0, 11, 22, 33, 44, 55, 66, 77, 88, 99])"
      ]
     },
     "execution_count": 103,
     "metadata": {},
     "output_type": "execute_result"
    }
   ],
   "source": [
    "r_2"
   ]
  },
  {
   "cell_type": "code",
   "execution_count": 106,
   "metadata": {},
   "outputs": [
    {
     "data": {
      "text/plain": [
       "tensor([[ 1, 11, 21, 31, 41, 51, 61, 71, 81, 91],\n",
       "        [ 0, 11, 22, 33, 44, 55, 66, 77, 88, 99]])"
      ]
     },
     "execution_count": 106,
     "metadata": {},
     "output_type": "execute_result"
    }
   ],
   "source": [
    "torch.vstack((r_1, r_2))"
   ]
  },
  {
   "cell_type": "code",
   "execution_count": 119,
   "metadata": {},
   "outputs": [
    {
     "data": {
      "text/plain": [
       "tensor([ 1, 11, 21, 31, 41, 51, 61, 71, 81, 91,  0, 11, 22, 33, 44, 55, 66, 77,\n",
       "        88, 99])"
      ]
     },
     "execution_count": 119,
     "metadata": {},
     "output_type": "execute_result"
    }
   ],
   "source": [
    "rs = torch.hstack((r_1, r_2))\n",
    "rs"
   ]
  },
  {
   "cell_type": "code",
   "execution_count": 110,
   "metadata": {},
   "outputs": [
    {
     "data": {
      "text/plain": [
       "tensor([[ 1, 11, 21, 31, 41, 51, 61, 71, 81, 91],\n",
       "        [ 0, 11, 22, 33, 44, 55, 66, 77, 88, 99]])"
      ]
     },
     "execution_count": 110,
     "metadata": {},
     "output_type": "execute_result"
    }
   ],
   "source": [
    "rs.reshape(2, 10)"
   ]
  },
  {
   "cell_type": "code",
   "execution_count": 114,
   "metadata": {},
   "outputs": [
    {
     "data": {
      "text/plain": [
       "tensor([[ 1, 11, 21, 31, 41, 51, 61, 71, 81, 91],\n",
       "        [ 0, 11, 22, 33, 44, 55, 66, 77, 88, 99]])"
      ]
     },
     "execution_count": 114,
     "metadata": {},
     "output_type": "execute_result"
    }
   ],
   "source": [
    "rs.view(2, 10)"
   ]
  },
  {
   "cell_type": "code",
   "execution_count": 117,
   "metadata": {},
   "outputs": [
    {
     "data": {
      "text/plain": [
       "tensor([ 1, 11, 21, 31, 41, 51, 61, 71, 81, 91,  0, 11, 22, 33, 44, 55, 66, 77,\n",
       "        88, 99])"
      ]
     },
     "execution_count": 117,
     "metadata": {},
     "output_type": "execute_result"
    }
   ],
   "source": [
    "rs"
   ]
  },
  {
   "cell_type": "code",
   "execution_count": 115,
   "metadata": {},
   "outputs": [
    {
     "data": {
      "text/plain": [
       "(tensor([[999,  11,  21,  31,  41,  51,  61,  71,  81,  91],\n",
       "         [999,  11,  22,  33,  44,  55,  66,  77,  88,  99]]),\n",
       " tensor([999,  11,  21,  31,  41,  51,  61,  71,  81,  91, 999,  11,  22,  33,\n",
       "          44,  55,  66,  77,  88,  99]))"
      ]
     },
     "execution_count": 115,
     "metadata": {},
     "output_type": "execute_result"
    }
   ],
   "source": [
    "# Remember that when create a new tensor with \"view\" and \"reshape\", it share the same memory with the original tensor\n",
    "z = rs.view(2, 10)\n",
    "z[:, 0] = 999\n",
    "z, rs"
   ]
  },
  {
   "cell_type": "code",
   "execution_count": 121,
   "metadata": {},
   "outputs": [
    {
     "data": {
      "text/plain": [
       "tensor([ 1, 11, 21, 31, 41, 51, 61, 71, 81, 91,  0, 11, 22, 33, 44, 55, 66, 77,\n",
       "        88, 99])"
      ]
     },
     "execution_count": 121,
     "metadata": {},
     "output_type": "execute_result"
    }
   ],
   "source": [
    "rs = torch.hstack((r_1, r_2))\n",
    "rs"
   ]
  },
  {
   "cell_type": "code",
   "execution_count": 122,
   "metadata": {},
   "outputs": [
    {
     "data": {
      "text/plain": [
       "(tensor([[999,  11,  21,  31,  41,  51,  61,  71,  81,  91],\n",
       "         [999,  11,  22,  33,  44,  55,  66,  77,  88,  99]]),\n",
       " tensor([999,  11,  21,  31,  41,  51,  61,  71,  81,  91, 999,  11,  22,  33,\n",
       "          44,  55,  66,  77,  88,  99]))"
      ]
     },
     "execution_count": 122,
     "metadata": {},
     "output_type": "execute_result"
    }
   ],
   "source": [
    "v = rs.reshape(2, 10)\n",
    "v[:, 0] = 999\n",
    "v, rs"
   ]
  },
  {
   "cell_type": "code",
   "execution_count": 125,
   "metadata": {},
   "outputs": [
    {
     "data": {
      "text/plain": [
       "tensor([[999, 999],\n",
       "        [ 11,  11],\n",
       "        [ 21,  21],\n",
       "        [ 31,  31],\n",
       "        [ 41,  41],\n",
       "        [ 51,  51],\n",
       "        [ 61,  61],\n",
       "        [ 71,  71],\n",
       "        [ 81,  81],\n",
       "        [ 91,  91],\n",
       "        [999, 999],\n",
       "        [ 11,  11],\n",
       "        [ 22,  22],\n",
       "        [ 33,  33],\n",
       "        [ 44,  44],\n",
       "        [ 55,  55],\n",
       "        [ 66,  66],\n",
       "        [ 77,  77],\n",
       "        [ 88,  88],\n",
       "        [ 99,  99]])"
      ]
     },
     "execution_count": 125,
     "metadata": {},
     "output_type": "execute_result"
    }
   ],
   "source": [
    "rs_stacked = torch.stack((rs, rs), dim=1)\n",
    "rs_stacked"
   ]
  },
  {
   "cell_type": "code",
   "execution_count": 126,
   "metadata": {},
   "outputs": [
    {
     "data": {
      "text/plain": [
       "tensor([[999,  11,  21,  31,  41,  51,  61,  71,  81,  91, 999,  11,  22,  33,\n",
       "          44,  55,  66,  77,  88,  99],\n",
       "        [999,  11,  21,  31,  41,  51,  61,  71,  81,  91, 999,  11,  22,  33,\n",
       "          44,  55,  66,  77,  88,  99]])"
      ]
     },
     "execution_count": 126,
     "metadata": {},
     "output_type": "execute_result"
    }
   ],
   "source": [
    "rs_stacked = torch.stack((rs, rs), dim=0)\n",
    "rs_stacked"
   ]
  },
  {
   "cell_type": "code",
   "execution_count": 5,
   "metadata": {},
   "outputs": [
    {
     "data": {
      "text/plain": [
       "tensor([[[[[0., 0.]],\n",
       "\n",
       "          [[0., 0.]]],\n",
       "\n",
       "\n",
       "         [[[0., 0.]],\n",
       "\n",
       "          [[0., 0.]]]]])"
      ]
     },
     "execution_count": 5,
     "metadata": {},
     "output_type": "execute_result"
    }
   ],
   "source": [
    "redundancy = torch.zeros(1,2,2,1,2)\n",
    "redundancy"
   ]
  },
  {
   "cell_type": "code",
   "execution_count": 6,
   "metadata": {},
   "outputs": [
    {
     "data": {
      "text/plain": [
       "torch.Size([1, 2, 2, 1, 2])"
      ]
     },
     "execution_count": 6,
     "metadata": {},
     "output_type": "execute_result"
    }
   ],
   "source": [
    "redundancy.size()"
   ]
  },
  {
   "cell_type": "code",
   "execution_count": 7,
   "metadata": {},
   "outputs": [
    {
     "data": {
      "text/plain": [
       "torch.Size([2, 2, 2])"
      ]
     },
     "execution_count": 7,
     "metadata": {},
     "output_type": "execute_result"
    }
   ],
   "source": [
    "compact = torch.squeeze(redundancy)\n",
    "compact.size()"
   ]
  },
  {
   "cell_type": "code",
   "execution_count": 8,
   "metadata": {},
   "outputs": [
    {
     "data": {
      "text/plain": [
       "tensor([[[0., 0.],\n",
       "         [0., 0.]],\n",
       "\n",
       "        [[0., 0.],\n",
       "         [0., 0.]]])"
      ]
     },
     "execution_count": 8,
     "metadata": {},
     "output_type": "execute_result"
    }
   ],
   "source": [
    "compact"
   ]
  },
  {
   "cell_type": "code",
   "execution_count": 9,
   "metadata": {},
   "outputs": [
    {
     "name": "stdout",
     "output_type": "stream",
     "text": [
      "Previous: tensor([[[0., 0.],\n",
      "         [0., 0.]],\n",
      "\n",
      "        [[0., 0.],\n",
      "         [0., 0.]]])\n",
      "Size: torch.Size([2, 2, 2])\n"
     ]
    }
   ],
   "source": [
    "print(f\"Previous: {compact}\")\n",
    "print(f\"Size: {compact.shape}\")"
   ]
  },
  {
   "cell_type": "code",
   "execution_count": 10,
   "metadata": {},
   "outputs": [
    {
     "name": "stdout",
     "output_type": "stream",
     "text": [
      "Add a new dim at the 0-th dimension: tensor([[[[0., 0.],\n",
      "          [0., 0.]],\n",
      "\n",
      "         [[0., 0.],\n",
      "          [0., 0.]]]])\n",
      "Size: torch.Size([1, 2, 2, 2])\n"
     ]
    }
   ],
   "source": [
    "print(f\"Add a new dim at the 0-th dimension: {compact.unsqueeze(dim=0)}\")\n",
    "print(f\"Size: {compact.unsqueeze(dim=0).shape}\")"
   ]
  },
  {
   "cell_type": "code",
   "execution_count": 11,
   "metadata": {},
   "outputs": [
    {
     "name": "stdout",
     "output_type": "stream",
     "text": [
      "Add a new dim at the 1-th dimension: tensor([[[[0., 0.],\n",
      "          [0., 0.]]],\n",
      "\n",
      "\n",
      "        [[[0., 0.],\n",
      "          [0., 0.]]]])\n",
      "Size: torch.Size([2, 1, 2, 2])\n"
     ]
    }
   ],
   "source": [
    "redundant = compact.unsqueeze(dim=1)\n",
    "\n",
    "print(f\"Add a new dim at the 1-th dimension: {redundant}\")\n",
    "print(f\"Size: {redundant.shape}\") "
   ]
  },
  {
   "cell_type": "code",
   "execution_count": 13,
   "metadata": {},
   "outputs": [
    {
     "data": {
      "text/plain": [
       "torch.Size([2, 1, 1, 2, 2])"
      ]
     },
     "execution_count": 13,
     "metadata": {},
     "output_type": "execute_result"
    }
   ],
   "source": [
    "redundant = redundant.unsqueeze(dim=1)\n",
    "redundant.shape"
   ]
  },
  {
   "cell_type": "code",
   "execution_count": 15,
   "metadata": {},
   "outputs": [
    {
     "data": {
      "text/plain": [
       "torch.Size([2, 2, 2])"
      ]
     },
     "execution_count": 15,
     "metadata": {},
     "output_type": "execute_result"
    }
   ],
   "source": [
    "# squeeze with no parameter would squeeze [[all]] the single dimension!!\n",
    "compact = redundant.squeeze()\n",
    "compact.shape"
   ]
  },
  {
   "cell_type": "code",
   "execution_count": 17,
   "metadata": {},
   "outputs": [
    {
     "data": {
      "text/plain": [
       "torch.Size([3, 224, 224])"
      ]
     },
     "execution_count": 17,
     "metadata": {},
     "output_type": "execute_result"
    }
   ],
   "source": [
    "image = torch.rand(224, 224, 3)\n",
    "image.size()\n",
    "torch.permute(image, (2, 0, 1)).size()"
   ]
  },
  {
   "cell_type": "code",
   "execution_count": null,
   "metadata": {},
   "outputs": [],
   "source": [
    "image"
   ]
  },
  {
   "cell_type": "code",
   "execution_count": 20,
   "metadata": {},
   "outputs": [
    {
     "data": {
      "text/plain": [
       "torch.Size([224, 3])"
      ]
     },
     "execution_count": 20,
     "metadata": {},
     "output_type": "execute_result"
    }
   ],
   "source": [
    "image[0, :, :].shape"
   ]
  },
  {
   "cell_type": "code",
   "execution_count": 21,
   "metadata": {},
   "outputs": [
    {
     "data": {
      "text/plain": [
       "torch.Size([224, 224])"
      ]
     },
     "execution_count": 21,
     "metadata": {},
     "output_type": "execute_result"
    }
   ],
   "source": [
    "torch.permute(image, (2, 0, 1))[0, :, :].shape"
   ]
  },
  {
   "cell_type": "markdown",
   "metadata": {},
   "source": [
    "indexing"
   ]
  },
  {
   "cell_type": "code",
   "execution_count": 22,
   "metadata": {},
   "outputs": [
    {
     "data": {
      "text/plain": [
       "(tensor([[[1, 2, 3],\n",
       "          [4, 5, 6],\n",
       "          [7, 8, 9]]]),\n",
       " torch.Size([1, 3, 3]))"
      ]
     },
     "execution_count": 22,
     "metadata": {},
     "output_type": "execute_result"
    }
   ],
   "source": [
    "x = torch.arange(1, 10).reshape(1, 3, 3)\n",
    "x, x.shape"
   ]
  },
  {
   "cell_type": "code",
   "execution_count": 23,
   "metadata": {},
   "outputs": [
    {
     "data": {
      "text/plain": [
       "tensor([[1, 2, 3],\n",
       "        [4, 5, 6],\n",
       "        [7, 8, 9]])"
      ]
     },
     "execution_count": 23,
     "metadata": {},
     "output_type": "execute_result"
    }
   ],
   "source": [
    "x[0]"
   ]
  },
  {
   "cell_type": "code",
   "execution_count": 24,
   "metadata": {},
   "outputs": [
    {
     "data": {
      "text/plain": [
       "tensor([1, 2, 3])"
      ]
     },
     "execution_count": 24,
     "metadata": {},
     "output_type": "execute_result"
    }
   ],
   "source": [
    "x[0][0]"
   ]
  },
  {
   "cell_type": "code",
   "execution_count": 27,
   "metadata": {},
   "outputs": [
    {
     "data": {
      "text/plain": [
       "tensor(1)"
      ]
     },
     "execution_count": 27,
     "metadata": {},
     "output_type": "execute_result"
    }
   ],
   "source": [
    "x[0][0][0]"
   ]
  },
  {
   "cell_type": "code",
   "execution_count": 29,
   "metadata": {},
   "outputs": [
    {
     "data": {
      "text/plain": [
       "tensor(9)"
      ]
     },
     "execution_count": 29,
     "metadata": {},
     "output_type": "execute_result"
    }
   ],
   "source": [
    "x[0][2][2]"
   ]
  },
  {
   "cell_type": "code",
   "execution_count": 30,
   "metadata": {},
   "outputs": [
    {
     "data": {
      "text/plain": [
       "tensor([[1, 2, 3]])"
      ]
     },
     "execution_count": 30,
     "metadata": {},
     "output_type": "execute_result"
    }
   ],
   "source": [
    "x[:, 0]"
   ]
  },
  {
   "cell_type": "code",
   "execution_count": 31,
   "metadata": {},
   "outputs": [
    {
     "data": {
      "text/plain": [
       "tensor([[1, 4, 7]])"
      ]
     },
     "execution_count": 31,
     "metadata": {},
     "output_type": "execute_result"
    }
   ],
   "source": [
    "x[:, :, 0]"
   ]
  },
  {
   "cell_type": "code",
   "execution_count": 32,
   "metadata": {},
   "outputs": [
    {
     "data": {
      "text/plain": [
       "tensor([1])"
      ]
     },
     "execution_count": 32,
     "metadata": {},
     "output_type": "execute_result"
    }
   ],
   "source": [
    "x[:, 0, 0]"
   ]
  },
  {
   "cell_type": "code",
   "execution_count": 33,
   "metadata": {},
   "outputs": [
    {
     "data": {
      "text/plain": [
       "tensor([[3, 6, 9]])"
      ]
     },
     "execution_count": 33,
     "metadata": {},
     "output_type": "execute_result"
    }
   ],
   "source": [
    "x[:, :, 2]"
   ]
  },
  {
   "cell_type": "markdown",
   "metadata": {},
   "source": [
    "Torch & Numpy"
   ]
  },
  {
   "cell_type": "code",
   "execution_count": 34,
   "metadata": {},
   "outputs": [],
   "source": [
    "import numpy as np"
   ]
  },
  {
   "cell_type": "code",
   "execution_count": 35,
   "metadata": {},
   "outputs": [
    {
     "data": {
      "text/plain": [
       "array([1., 2., 3., 4., 5., 6., 7.])"
      ]
     },
     "execution_count": 35,
     "metadata": {},
     "output_type": "execute_result"
    }
   ],
   "source": [
    "array = np.arange(1.0, 8.0)\n",
    "array"
   ]
  },
  {
   "cell_type": "code",
   "execution_count": 37,
   "metadata": {},
   "outputs": [
    {
     "data": {
      "text/plain": [
       "dtype('float64')"
      ]
     },
     "execution_count": 37,
     "metadata": {},
     "output_type": "execute_result"
    }
   ],
   "source": [
    "array.dtype"
   ]
  },
  {
   "cell_type": "code",
   "execution_count": 36,
   "metadata": {},
   "outputs": [
    {
     "data": {
      "text/plain": [
       "tensor([1., 2., 3., 4., 5., 6., 7.], dtype=torch.float64)"
      ]
     },
     "execution_count": 36,
     "metadata": {},
     "output_type": "execute_result"
    }
   ],
   "source": [
    "tensor = torch.from_numpy(array)\n",
    "tensor"
   ]
  },
  {
   "cell_type": "code",
   "execution_count": null,
   "metadata": {},
   "outputs": [],
   "source": [
    "# when transfer from numpy, the dtype would be keeped as float64\n",
    "# However, when directly use torch to create tensor, the default dtype is float32"
   ]
  },
  {
   "cell_type": "code",
   "execution_count": 39,
   "metadata": {},
   "outputs": [
    {
     "data": {
      "text/plain": [
       "torch.float32"
      ]
     },
     "execution_count": 39,
     "metadata": {},
     "output_type": "execute_result"
    }
   ],
   "source": [
    "torch.arange(1.0, 8.0).dtype"
   ]
  },
  {
   "cell_type": "code",
   "execution_count": 41,
   "metadata": {},
   "outputs": [
    {
     "data": {
      "text/plain": [
       "(tensor([1., 1., 1., 1., 1., 1., 1.]),\n",
       " array([1., 1., 1., 1., 1., 1., 1.], dtype=float32))"
      ]
     },
     "execution_count": 41,
     "metadata": {},
     "output_type": "execute_result"
    }
   ],
   "source": [
    "# Tensor to NumPy array\n",
    "tensor = torch.ones(7) # create a tensor of ones with dtype=float32\n",
    "numpy_tensor = tensor.numpy() # will be dtype=float32 unless changed\n",
    "tensor, numpy_tensor"
   ]
  },
  {
   "cell_type": "code",
   "execution_count": 42,
   "metadata": {},
   "outputs": [
    {
     "data": {
      "text/plain": [
       "(tensor([2., 2., 2., 2., 2., 2., 2.]),\n",
       " array([1., 1., 1., 1., 1., 1., 1.], dtype=float32))"
      ]
     },
     "execution_count": 42,
     "metadata": {},
     "output_type": "execute_result"
    }
   ],
   "source": [
    "# Change the tensor, keep the array the same\n",
    "tensor = tensor + 1\n",
    "tensor, numpy_tensor"
   ]
  },
  {
   "cell_type": "markdown",
   "metadata": {},
   "source": [
    "Reproducibility (trying to take the random out of random)"
   ]
  },
  {
   "attachments": {
    "image.png": {
     "image/png": "[encoded data removed]"
    }
   },
   "cell_type": "markdown",
   "metadata": {},
   "source": [
    "![image.png](attachment:image.png)"
   ]
  },
  {
   "cell_type": "code",
   "execution_count": 43,
   "metadata": {},
   "outputs": [
    {
     "data": {
      "text/plain": [
       "tensor([[0.2554, 0.5819, 0.4870],\n",
       "        [0.4370, 0.3568, 0.0729],\n",
       "        [0.2842, 0.9553, 0.5352]])"
      ]
     },
     "execution_count": 43,
     "metadata": {},
     "output_type": "execute_result"
    }
   ],
   "source": [
    "torch.rand(3, 3)"
   ]
  },
  {
   "cell_type": "markdown",
   "metadata": {},
   "source": [
    "\"Random Seed\""
   ]
  },
  {
   "cell_type": "code",
   "execution_count": 44,
   "metadata": {},
   "outputs": [
    {
     "name": "stdout",
     "output_type": "stream",
     "text": [
      "tensor([[0.0637, 0.5283, 0.6048, 0.1180],\n",
      "        [0.6217, 0.7307, 0.7963, 0.1858],\n",
      "        [0.6429, 0.0786, 0.2156, 0.4819]])\n",
      "tensor([[0.3573, 0.1557, 0.0108, 0.6567],\n",
      "        [0.2426, 0.1688, 0.9333, 0.0239],\n",
      "        [0.5847, 0.1816, 0.3345, 0.4302]])\n"
     ]
    }
   ],
   "source": [
    "random_tensor_A = torch.rand(3, 4)\n",
    "random_tensor_B = torch.rand(3, 4)\n",
    "\n",
    "print(random_tensor_A)\n",
    "print(random_tensor_B)"
   ]
  },
  {
   "cell_type": "code",
   "execution_count": 45,
   "metadata": {},
   "outputs": [
    {
     "name": "stdout",
     "output_type": "stream",
     "text": [
      "tensor([[False, False, False, False],\n",
      "        [False, False, False, False],\n",
      "        [False, False, False, False]])\n"
     ]
    }
   ],
   "source": [
    "print(random_tensor_A == random_tensor_B)"
   ]
  },
  {
   "cell_type": "code",
   "execution_count": 46,
   "metadata": {},
   "outputs": [
    {
     "name": "stdout",
     "output_type": "stream",
     "text": [
      "tensor([[0.0475, 0.6935, 0.1298, 0.8160],\n",
      "        [0.7698, 0.7885, 0.7830, 0.4209],\n",
      "        [0.7104, 0.6198, 0.7098, 0.4874]])\n",
      "tensor([[0.8019, 0.4471, 0.3460, 0.2414],\n",
      "        [0.0359, 0.1427, 0.5629, 0.8336],\n",
      "        [0.2663, 0.8126, 0.5814, 0.5970]])\n",
      "tensor([[False, False, False, False],\n",
      "        [False, False, False, False],\n",
      "        [False, False, False, False]])\n"
     ]
    }
   ],
   "source": [
    "RANDOM_SEED = 888\n",
    "\n",
    "torch.manual_seed(RANDOM_SEED)\n",
    "\n",
    "random_tensor_C = torch.rand(3, 4)\n",
    "random_tensor_D = torch.rand(3, 4)\n",
    "\n",
    "print(random_tensor_C)\n",
    "print(random_tensor_D)\n",
    "\n",
    "print(random_tensor_C == random_tensor_D)"
   ]
  },
  {
   "cell_type": "code",
   "execution_count": 47,
   "metadata": {},
   "outputs": [
    {
     "name": "stdout",
     "output_type": "stream",
     "text": [
      "tensor([[0.0475, 0.6935, 0.1298, 0.8160],\n",
      "        [0.7698, 0.7885, 0.7830, 0.4209],\n",
      "        [0.7104, 0.6198, 0.7098, 0.4874]])\n",
      "tensor([[0.0475, 0.6935, 0.1298, 0.8160],\n",
      "        [0.7698, 0.7885, 0.7830, 0.4209],\n",
      "        [0.7104, 0.6198, 0.7098, 0.4874]])\n",
      "tensor([[True, True, True, True],\n",
      "        [True, True, True, True],\n",
      "        [True, True, True, True]])\n"
     ]
    }
   ],
   "source": [
    "RANDOM_SEED = 888\n",
    "\n",
    "torch.manual_seed(RANDOM_SEED)\n",
    "\n",
    "random_tensor_C = torch.rand(3, 4)\n",
    "####################################### \n",
    "torch.manual_seed(RANDOM_SEED)        # Set seed when you need to flavour randomness\n",
    "#######################################\n",
    "random_tensor_D = torch.rand(3, 4)\n",
    "\n",
    "print(random_tensor_C)\n",
    "print(random_tensor_D)\n",
    "\n",
    "print(random_tensor_C == random_tensor_D)"
   ]
  },
  {
   "cell_type": "markdown",
   "metadata": {},
   "source": [
    "Running tensors on GPUs"
   ]
  },
  {
   "cell_type": "code",
   "execution_count": 49,
   "metadata": {},
   "outputs": [
    {
     "name": "stdout",
     "output_type": "stream",
     "text": [
      "Wed Jul 12 20:58:10 2023       \n",
      "+-----------------------------------------------------------------------------+\n",
      "| NVIDIA-SMI 528.24       Driver Version: 528.24       CUDA Version: 12.0     |\n",
      "|-------------------------------+----------------------+----------------------+\n",
      "| GPU  Name            TCC/WDDM | Bus-Id        Disp.A | Volatile Uncorr. ECC |\n",
      "| Fan  Temp  Perf  Pwr:Usage/Cap|         Memory-Usage | GPU-Util  Compute M. |\n",
      "|                               |                      |               MIG M. |\n",
      "|===============================+======================+======================|\n",
      "|   0  NVIDIA GeForce ... WDDM  | 00000000:73:00.0  On |                  N/A |\n",
      "|  0%   47C    P8    22W / 350W |   2142MiB / 24576MiB |      0%      Default |\n",
      "|                               |                      |                  N/A |\n",
      "+-------------------------------+----------------------+----------------------+\n",
      "|   1  NVIDIA GeForce ... WDDM  | 00000000:D5:00.0 Off |                  N/A |\n",
      "|  0%   41C    P8     7W / 350W |      0MiB / 24576MiB |      0%      Default |\n",
      "|                               |                      |                  N/A |\n",
      "+-------------------------------+----------------------+----------------------+\n",
      "                                                                               \n",
      "+-----------------------------------------------------------------------------+\n",
      "| Processes:                                                                  |\n",
      "|  GPU   GI   CI        PID   Type   Process name                  GPU Memory |\n",
      "|        ID   ID                                                   Usage      |\n",
      "|=============================================================================|\n",
      "|    0   N/A  N/A      4320    C+G   ...rograms\\Notion\\Notion.exe    N/A      |\n",
      "|    0   N/A  N/A      7296    C+G   ...icrosoft VS Code\\Code.exe    N/A      |\n",
      "|    0   N/A  N/A     12528    C+G   ...5n1h2txyewy\\SearchApp.exe    N/A      |\n",
      "|    0   N/A  N/A     13720    C+G   C:\\Windows\\explorer.exe         N/A      |\n",
      "|    0   N/A  N/A     13752    C+G   ...logioptionsplus_agent.exe    N/A      |\n",
      "|    0   N/A  N/A     16576    C+G   ...oft\\OneDrive\\OneDrive.exe    N/A      |\n",
      "|    0   N/A  N/A     16896    C+G   ...5n1h2txyewy\\SearchApp.exe    N/A      |\n",
      "|    0   N/A  N/A     19176    C+G   ...3d8bbwe\\CalculatorApp.exe    N/A      |\n",
      "|    0   N/A  N/A     20940    C+G   ...cw5n1h2txyewy\\LockApp.exe    N/A      |\n",
      "|    0   N/A  N/A     21528    C+G   ...2txyewy\\TextInputHost.exe    N/A      |\n",
      "|    0   N/A  N/A     21852    C+G   ...lPanel\\SystemSettings.exe    N/A      |\n",
      "|    0   N/A  N/A     24736    C+G   ...s$1_1_341\\wallpaper32.exe    N/A      |\n",
      "|    0   N/A  N/A     25332    C+G   ...bbwe\\Microsoft.Photos.exe    N/A      |\n",
      "|    0   N/A  N/A     25404    C+G   ...pplication\\mailmaster.exe    N/A      |\n",
      "|    0   N/A  N/A     26032    C+G   ...\\app-1.0.9013\\Discord.exe    N/A      |\n",
      "|    0   N/A  N/A     26956    C+G   ...me\\Application\\chrome.exe    N/A      |\n",
      "|    0   N/A  N/A     29660    C+G   ...8wekyb3d8bbwe\\Cortana.exe    N/A      |\n",
      "|    0   N/A  N/A     29896    C+G   ...ck\\app-4.32.127\\slack.exe    N/A      |\n",
      "|    0   N/A  N/A     32408    C+G   ...les\\eudic\\CefViewWing.exe    N/A      |\n",
      "|    0   N/A  N/A     35248    C+G   ...ontend\\Docker Desktop.exe    N/A      |\n",
      "|    0   N/A  N/A     37144    C+G   ...p-3.2.4\\GitHubDesktop.exe    N/A      |\n",
      "|    0   N/A  N/A     38980    C+G   ...y\\ShellExperienceHost.exe    N/A      |\n",
      "|    0   N/A  N/A     41752    C+G   ...e\\PhoneExperienceHost.exe    N/A      |\n",
      "|    0   N/A  N/A     42748    C+G   ...cal\\Obsidian\\Obsidian.exe    N/A      |\n",
      "|    0   N/A  N/A     43792    C+G   ...d\\runtime\\WeChatAppEx.exe    N/A      |\n",
      "+-----------------------------------------------------------------------------+\n"
     ]
    }
   ],
   "source": [
    "!nvidia-smi"
   ]
  },
  {
   "cell_type": "code",
   "execution_count": 51,
   "metadata": {},
   "outputs": [
    {
     "data": {
      "text/plain": [
       "True"
      ]
     },
     "execution_count": 51,
     "metadata": {},
     "output_type": "execute_result"
    }
   ],
   "source": [
    "torch.cuda.is_available()"
   ]
  },
  {
   "cell_type": "code",
   "execution_count": 53,
   "metadata": {},
   "outputs": [
    {
     "data": {
      "text/plain": [
       "2"
      ]
     },
     "execution_count": 53,
     "metadata": {},
     "output_type": "execute_result"
    }
   ],
   "source": [
    "torch.cuda.device_count()"
   ]
  },
  {
   "cell_type": "code",
   "execution_count": 52,
   "metadata": {},
   "outputs": [
    {
     "data": {
      "text/plain": [
       "'cuda'"
      ]
     },
     "execution_count": 52,
     "metadata": {},
     "output_type": "execute_result"
    }
   ],
   "source": [
    "device = \"cuda\" if torch.cuda.is_available() else \"cpu\"\n",
    "device"
   ]
  },
  {
   "cell_type": "code",
   "execution_count": 56,
   "metadata": {},
   "outputs": [
    {
     "name": "stdout",
     "output_type": "stream",
     "text": [
      "tensor([1, 2, 3]) cpu \n",
      "\n",
      "device: cuda\n"
     ]
    },
    {
     "data": {
      "text/plain": [
       "tensor([1, 2, 3], device='cuda:0')"
      ]
     },
     "execution_count": 56,
     "metadata": {},
     "output_type": "execute_result"
    }
   ],
   "source": [
    "# Create tensor (default on CPU)\n",
    "tensor = torch.tensor([1, 2, 3])\n",
    "\n",
    "# Tensor not on GPU\n",
    "print(tensor, tensor.device, \"\\n\")\n",
    "\n",
    "# Move tensor to GPU (if available)\n",
    "print(f\"device: {device}\")\n",
    "tensor_on_gpu = tensor.to(device)\n",
    "tensor_on_gpu"
   ]
  },
  {
   "cell_type": "code",
   "execution_count": 57,
   "metadata": {},
   "outputs": [
    {
     "data": {
      "text/plain": [
       "tensor([1, 2, 3], device='cuda:1')"
      ]
     },
     "execution_count": 57,
     "metadata": {},
     "output_type": "execute_result"
    }
   ],
   "source": [
    "# second gpu\n",
    "second_device = \"cuda:1\"\n",
    "\n",
    "tensor_on_2rd_gpu = tensor.to(second_device)\n",
    "tensor_on_2rd_gpu"
   ]
  },
  {
   "cell_type": "code",
   "execution_count": 59,
   "metadata": {},
   "outputs": [
    {
     "data": {
      "text/plain": [
       "tensor([1, 2, 3])"
      ]
     },
     "execution_count": 59,
     "metadata": {},
     "output_type": "execute_result"
    }
   ],
   "source": [
    "# Move back to cpu\n",
    "tensor_on_cpu = tensor_on_2rd_gpu.to(\"cpu\")\n",
    "tensor_on_cpu"
   ]
  },
  {
   "cell_type": "code",
   "execution_count": 60,
   "metadata": {},
   "outputs": [
    {
     "data": {
      "text/plain": [
       "tensor([1, 2, 3], device='cuda:1')"
      ]
     },
     "execution_count": 60,
     "metadata": {},
     "output_type": "execute_result"
    }
   ],
   "source": [
    "tensor_on_2rd_gpu"
   ]
  },
  {
   "cell_type": "code",
   "execution_count": 62,
   "metadata": {},
   "outputs": [
    {
     "ename": "TypeError",
     "evalue": "can't convert cuda:1 device type tensor to numpy. Use Tensor.cpu() to copy the tensor to host memory first.",
     "output_type": "error",
     "traceback": [
      "\u001b[1;31m---------------------------------------------------------------------------\u001b[0m",
      "\u001b[1;31mTypeError\u001b[0m                                 Traceback (most recent call last)",
      "Cell \u001b[1;32mIn[62], line 2\u001b[0m\n\u001b[0;32m      1\u001b[0m \u001b[39m# One reason to move it back is we cannot convert tensor to numpy when it's on GPU\u001b[39;00m\n\u001b[1;32m----> 2\u001b[0m tensor_on_2rd_gpu\u001b[39m.\u001b[39;49mnumpy()\n",
      "\u001b[1;31mTypeError\u001b[0m: can't convert cuda:1 device type tensor to numpy. Use Tensor.cpu() to copy the tensor to host memory first."
     ]
    }
   ],
   "source": [
    "# One reason to move it back is we cannot convert tensor to numpy when it's on GPU\n",
    "tensor_on_2rd_gpu.numpy()"
   ]
  },
  {
   "cell_type": "code",
   "execution_count": null,
   "metadata": {},
   "outputs": [],
   "source": [
    "# Another way to move it back to CPU is using Tensor.cpu()"
   ]
  },
  {
   "cell_type": "code",
   "execution_count": 63,
   "metadata": {},
   "outputs": [
    {
     "data": {
      "text/plain": [
       "tensor([1, 2, 3])"
      ]
     },
     "execution_count": 63,
     "metadata": {},
     "output_type": "execute_result"
    }
   ],
   "source": [
    "tensor_on_2rd_gpu.cpu()"
   ]
  },
  {
   "cell_type": "code",
   "execution_count": 65,
   "metadata": {},
   "outputs": [
    {
     "data": {
      "text/plain": [
       "array([1, 2, 3], dtype=int64)"
      ]
     },
     "execution_count": 65,
     "metadata": {},
     "output_type": "execute_result"
    }
   ],
   "source": [
    "tensor_on_2rd_gpu.cpu().numpy() "
   ]
  },
  {
   "cell_type": "code",
   "execution_count": null,
   "metadata": {},
   "outputs": [],
   "source": []
  },
  {
   "cell_type": "code",
   "execution_count": null,
   "metadata": {},
   "outputs": [],
   "source": []
  },
  {
   "cell_type": "code",
   "execution_count": null,
   "metadata": {},
   "outputs": [],
   "source": []
  },
  {
   "cell_type": "code",
   "execution_count": null,
   "metadata": {},
   "outputs": [],
   "source": []
  }
 ],
 "metadata": {
  "kernelspec": {
   "display_name": "dl",
   "language": "python",
   "name": "dl"
  },
  "language_info": {
   "codemirror_mode": {
    "name": "ipython",
    "version": 3
   },
   "file_extension": ".py",
   "mimetype": "text/x-python",
   "name": "python",
   "nbconvert_exporter": "python",
   "pygments_lexer": "ipython3",
   "version": "3.10.8"
  },
  "orig_nbformat": 4
 },
 "nbformat": 4,
 "nbformat_minor": 2
}
